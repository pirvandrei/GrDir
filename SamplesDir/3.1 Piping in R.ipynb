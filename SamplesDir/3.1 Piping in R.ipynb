{
  "cells": [
    {
      "metadata": {
        "collapsed": true
      },
      "cell_type": "markdown",
      "source": "# Piping in R\n\nPiping is a way to chain together multiple operations in an easy and very readable way. In R, especially the pipe operator `%>%` is of great convenience.\n\nOriginally the `%>%` operator comes from the `magrittr` package, but it is also included in the `dplyr` package (and thereby in the `tidyverse` package). So let us load the `tidyverse` package\n"
    },
    {
      "metadata": {
        "trusted": true
      },
      "cell_type": "code",
      "source": "library(tidyverse)",
      "execution_count": 3,
      "outputs": [
        {
          "output_type": "stream",
          "text": "── Attaching packages ─────────────────────────────────────── tidyverse 1.2.1 ──\n✔ ggplot2 2.2.1     ✔ purrr   0.2.4\n✔ tibble  1.4.1     ✔ dplyr   0.7.4\n✔ tidyr   0.7.2     ✔ stringr 1.3.1\n✔ readr   1.1.1     ✔ forcats 0.2.0\n── Conflicts ────────────────────────────────────────── tidyverse_conflicts() ──\n✖ dplyr::filter() masks stats::filter()\n✖ dplyr::lag()    masks stats::lag()\n",
          "name": "stderr"
        }
      ]
    },
    {
      "metadata": {},
      "cell_type": "markdown",
      "source": "To get started let us get some sample data to work with. Let us use the Marketing example data from chapter 3 of the book \"Introduction to R for Business Intelligence\" by Jay Gendron. Here is how to load that into R:"
    },
    {
      "metadata": {
        "trusted": true
      },
      "cell_type": "code",
      "source": "marketingData <- read.csv(\"https://raw.githubusercontent.com/jgendron/com.packtpub.intro.r.bi/master/Chapter3-ExploratoryDataAnalysis/data/Ch3_marketing.csv\")\nhead(marketingData)",
      "execution_count": 4,
      "outputs": [
        {
          "output_type": "display_data",
          "data": {
            "text/plain": "  google_adwords facebook twitter marketing_total revenues employees\n1  65.66         47.86    52.46   165.98          39.26     5       \n2  39.10         55.20    77.40   171.70          38.90     7       \n3 174.81         52.01    68.01   294.83          49.51    11       \n4  34.36         61.96    86.86   183.18          40.56     7       \n5  78.21         40.91    30.41   149.53          40.21     9       \n6  34.19         15.09    12.79    62.07          38.09     3       \n  pop_density\n1 High       \n2 Medium     \n3 Medium     \n4 High       \n5 Low        \n6 High       ",
            "text/latex": "\\begin{tabular}{r|lllllll}\n google\\_adwords & facebook & twitter & marketing\\_total & revenues & employees & pop\\_density\\\\\n\\hline\n\t  65.66 & 47.86  & 52.46  & 165.98 & 39.26  &  5     & High  \\\\\n\t  39.10 & 55.20  & 77.40  & 171.70 & 38.90  &  7     & Medium\\\\\n\t 174.81 & 52.01  & 68.01  & 294.83 & 49.51  & 11     & Medium\\\\\n\t  34.36 & 61.96  & 86.86  & 183.18 & 40.56  &  7     & High  \\\\\n\t  78.21 & 40.91  & 30.41  & 149.53 & 40.21  &  9     & Low   \\\\\n\t  34.19 & 15.09  & 12.79  &  62.07 & 38.09  &  3     & High  \\\\\n\\end{tabular}\n",
            "text/markdown": "\ngoogle_adwords | facebook | twitter | marketing_total | revenues | employees | pop_density | \n|---|---|---|---|---|---|\n|  65.66 | 47.86  | 52.46  | 165.98 | 39.26  |  5     | High   | \n|  39.10 | 55.20  | 77.40  | 171.70 | 38.90  |  7     | Medium | \n| 174.81 | 52.01  | 68.01  | 294.83 | 49.51  | 11     | Medium | \n|  34.36 | 61.96  | 86.86  | 183.18 | 40.56  |  7     | High   | \n|  78.21 | 40.91  | 30.41  | 149.53 | 40.21  |  9     | Low    | \n|  34.19 | 15.09  | 12.79  |  62.07 | 38.09  |  3     | High   | \n\n\n",
            "text/html": "<table>\n<thead><tr><th scope=col>google_adwords</th><th scope=col>facebook</th><th scope=col>twitter</th><th scope=col>marketing_total</th><th scope=col>revenues</th><th scope=col>employees</th><th scope=col>pop_density</th></tr></thead>\n<tbody>\n\t<tr><td> 65.66</td><td>47.86 </td><td>52.46 </td><td>165.98</td><td>39.26 </td><td> 5    </td><td>High  </td></tr>\n\t<tr><td> 39.10</td><td>55.20 </td><td>77.40 </td><td>171.70</td><td>38.90 </td><td> 7    </td><td>Medium</td></tr>\n\t<tr><td>174.81</td><td>52.01 </td><td>68.01 </td><td>294.83</td><td>49.51 </td><td>11    </td><td>Medium</td></tr>\n\t<tr><td> 34.36</td><td>61.96 </td><td>86.86 </td><td>183.18</td><td>40.56 </td><td> 7    </td><td>High  </td></tr>\n\t<tr><td> 78.21</td><td>40.91 </td><td>30.41 </td><td>149.53</td><td>40.21 </td><td> 9    </td><td>Low   </td></tr>\n\t<tr><td> 34.19</td><td>15.09 </td><td>12.79 </td><td> 62.07</td><td>38.09 </td><td> 3    </td><td>High  </td></tr>\n</tbody>\n</table>\n"
          },
          "metadata": {}
        }
      ]
    },
    {
      "metadata": {},
      "cell_type": "markdown",
      "source": "Assume we want to subset the data on `pop_density` being `High`, then group by `employees`, then calculate the mean for the `marketing_total` for each of these groups. This can be done in the following two ways, for instance:"
    },
    {
      "metadata": {
        "trusted": true
      },
      "cell_type": "code",
      "source": "newData <- filter(marketingData, pop_density == \"High\")\nnewData2 <- group_by(newData, employees)\nnewData3 <- select(newData2, employees, marketing_total)\nnewData4 <- summarise_all(newData3, mean)\nnewData4 ",
      "execution_count": 5,
      "outputs": [
        {
          "output_type": "display_data",
          "data": {
            "text/plain": "  employees marketing_total\n1  3         94.5100       \n2  4        105.6700       \n3  5        148.4650       \n4  6        198.8944       \n5  7        174.5425       \n6  8        233.5122       \n7  9        299.8514       \n8 10        278.4633       \n9 12        360.5940       ",
            "text/latex": "\\begin{tabular}{r|ll}\n employees & marketing\\_total\\\\\n\\hline\n\t  3       &  94.5100\\\\\n\t  4       & 105.6700\\\\\n\t  5       & 148.4650\\\\\n\t  6       & 198.8944\\\\\n\t  7       & 174.5425\\\\\n\t  8       & 233.5122\\\\\n\t  9       & 299.8514\\\\\n\t 10       & 278.4633\\\\\n\t 12       & 360.5940\\\\\n\\end{tabular}\n",
            "text/markdown": "\nemployees | marketing_total | \n|---|---|---|---|---|---|---|---|---|\n|  3       |  94.5100 | \n|  4       | 105.6700 | \n|  5       | 148.4650 | \n|  6       | 198.8944 | \n|  7       | 174.5425 | \n|  8       | 233.5122 | \n|  9       | 299.8514 | \n| 10       | 278.4633 | \n| 12       | 360.5940 | \n\n\n",
            "text/html": "<table>\n<thead><tr><th scope=col>employees</th><th scope=col>marketing_total</th></tr></thead>\n<tbody>\n\t<tr><td> 3      </td><td> 94.5100</td></tr>\n\t<tr><td> 4      </td><td>105.6700</td></tr>\n\t<tr><td> 5      </td><td>148.4650</td></tr>\n\t<tr><td> 6      </td><td>198.8944</td></tr>\n\t<tr><td> 7      </td><td>174.5425</td></tr>\n\t<tr><td> 8      </td><td>233.5122</td></tr>\n\t<tr><td> 9      </td><td>299.8514</td></tr>\n\t<tr><td>10      </td><td>278.4633</td></tr>\n\t<tr><td>12      </td><td>360.5940</td></tr>\n</tbody>\n</table>\n"
          },
          "metadata": {}
        }
      ]
    },
    {
      "metadata": {
        "trusted": true
      },
      "cell_type": "code",
      "source": "summarise_all(select(group_by(filter(marketingData, pop_density == \"High\"), employees), employees, marketing_total), mean)",
      "execution_count": 6,
      "outputs": [
        {
          "output_type": "display_data",
          "data": {
            "text/plain": "  employees marketing_total\n1  3         94.5100       \n2  4        105.6700       \n3  5        148.4650       \n4  6        198.8944       \n5  7        174.5425       \n6  8        233.5122       \n7  9        299.8514       \n8 10        278.4633       \n9 12        360.5940       ",
            "text/latex": "\\begin{tabular}{r|ll}\n employees & marketing\\_total\\\\\n\\hline\n\t  3       &  94.5100\\\\\n\t  4       & 105.6700\\\\\n\t  5       & 148.4650\\\\\n\t  6       & 198.8944\\\\\n\t  7       & 174.5425\\\\\n\t  8       & 233.5122\\\\\n\t  9       & 299.8514\\\\\n\t 10       & 278.4633\\\\\n\t 12       & 360.5940\\\\\n\\end{tabular}\n",
            "text/markdown": "\nemployees | marketing_total | \n|---|---|---|---|---|---|---|---|---|\n|  3       |  94.5100 | \n|  4       | 105.6700 | \n|  5       | 148.4650 | \n|  6       | 198.8944 | \n|  7       | 174.5425 | \n|  8       | 233.5122 | \n|  9       | 299.8514 | \n| 10       | 278.4633 | \n| 12       | 360.5940 | \n\n\n",
            "text/html": "<table>\n<thead><tr><th scope=col>employees</th><th scope=col>marketing_total</th></tr></thead>\n<tbody>\n\t<tr><td> 3      </td><td> 94.5100</td></tr>\n\t<tr><td> 4      </td><td>105.6700</td></tr>\n\t<tr><td> 5      </td><td>148.4650</td></tr>\n\t<tr><td> 6      </td><td>198.8944</td></tr>\n\t<tr><td> 7      </td><td>174.5425</td></tr>\n\t<tr><td> 8      </td><td>233.5122</td></tr>\n\t<tr><td> 9      </td><td>299.8514</td></tr>\n\t<tr><td>10      </td><td>278.4633</td></tr>\n\t<tr><td>12      </td><td>360.5940</td></tr>\n</tbody>\n</table>\n"
          },
          "metadata": {}
        }
      ]
    },
    {
      "metadata": {},
      "cell_type": "markdown",
      "source": "The two pieces of code do the same thing and illustrate two different ways we can execute several subsequent operations on some data. The operations are first to filter on the row for which `pop_density` is `High`, then grouping by the `employees` variable, then selecting the columns `marketing_total` and `employees`, and then summarizing all variables by the mean.\n\nIn the first bit of code we assign the output of each operation to new variable (called `newData`). Then we use this new variable as input in the next operation (grouping by the variable `employees`). We keep doing this for as many operations we want to execute.\n\nIn the second bit of code we just skipped all the intermediate assignments by just putting the calls of the operations inside each other with the latest being the outer most (furthest to the right). This is clearly less code, but it is also much hard to read and understand what is going on.\n\nCan we make a simpler than the first one, which is still readable? Then answer is \"yes, with the pipe operator `%>%`\". We can simply do:"
    },
    {
      "metadata": {
        "trusted": true
      },
      "cell_type": "code",
      "source": "marketingData %>%\n    filter(pop_density == \"High\") %>%\n    group_by(employees) %>%\n    select(employees, marketing_total) %>%\n    summarise_all(mean)",
      "execution_count": 7,
      "outputs": [
        {
          "output_type": "display_data",
          "data": {
            "text/plain": "  employees marketing_total\n1  3         94.5100       \n2  4        105.6700       \n3  5        148.4650       \n4  6        198.8944       \n5  7        174.5425       \n6  8        233.5122       \n7  9        299.8514       \n8 10        278.4633       \n9 12        360.5940       ",
            "text/latex": "\\begin{tabular}{r|ll}\n employees & marketing\\_total\\\\\n\\hline\n\t  3       &  94.5100\\\\\n\t  4       & 105.6700\\\\\n\t  5       & 148.4650\\\\\n\t  6       & 198.8944\\\\\n\t  7       & 174.5425\\\\\n\t  8       & 233.5122\\\\\n\t  9       & 299.8514\\\\\n\t 10       & 278.4633\\\\\n\t 12       & 360.5940\\\\\n\\end{tabular}\n",
            "text/markdown": "\nemployees | marketing_total | \n|---|---|---|---|---|---|---|---|---|\n|  3       |  94.5100 | \n|  4       | 105.6700 | \n|  5       | 148.4650 | \n|  6       | 198.8944 | \n|  7       | 174.5425 | \n|  8       | 233.5122 | \n|  9       | 299.8514 | \n| 10       | 278.4633 | \n| 12       | 360.5940 | \n\n\n",
            "text/html": "<table>\n<thead><tr><th scope=col>employees</th><th scope=col>marketing_total</th></tr></thead>\n<tbody>\n\t<tr><td> 3      </td><td> 94.5100</td></tr>\n\t<tr><td> 4      </td><td>105.6700</td></tr>\n\t<tr><td> 5      </td><td>148.4650</td></tr>\n\t<tr><td> 6      </td><td>198.8944</td></tr>\n\t<tr><td> 7      </td><td>174.5425</td></tr>\n\t<tr><td> 8      </td><td>233.5122</td></tr>\n\t<tr><td> 9      </td><td>299.8514</td></tr>\n\t<tr><td>10      </td><td>278.4633</td></tr>\n\t<tr><td>12      </td><td>360.5940</td></tr>\n</tbody>\n</table>\n"
          },
          "metadata": {}
        }
      ]
    },
    {
      "metadata": {},
      "cell_type": "markdown",
      "source": "A few things are worth noticing about this later piece of code. First of all the multiple lines are for increased readability, we could have put it on one line. (For it to work, however, it needs to be the pipe `%>%` that ends the line.)\n\nSecondly, notice how, compared to the first code example, we have completely left out the **first** argument in the call to the functions `filter`, `group_by`, `select`, and `summarise_all`. What the piper operator does is, it takes the output of the operation on the left and put it in as the **first** argument to the next operation. That is, the output of the operation `filter(pop_density == \"High\")` is used as first input to the next `group_by` operation. Formally, an expression of the form `function(argument1, argument2)` can be rewritten as `argument1 %>% function(argument2)`. In itself this rewriting does not change much, but when multiple function calls are chained together it helps a lot.\n\nFinally, look how easy it is to read, as each line represent one operation applied to the output of the operation on the line above."
    },
    {
      "metadata": {},
      "cell_type": "markdown",
      "source": "### *Exercise*\n\nUse the `%>%` operator on the `marketingData` to group it by the `pop_density` variable and then summarise `revenues` by adding it together wih `sum`."
    },
    {
      "metadata": {
        "trusted": true
      },
      "cell_type": "code",
      "source": "",
      "execution_count": null,
      "outputs": []
    },
    {
      "metadata": {},
      "cell_type": "markdown",
      "source": "For more on `%>%` and piping in R in general, see the following blog on DataCamp: https://www.datacamp.com/community/tutorials/pipe-r-tutorial"
    }
  ],
  "metadata": {
    "kernelspec": {
      "name": "r",
      "display_name": "R",
      "language": "R"
    },
    "language_info": {
      "mimetype": "text/x-r-source",
      "name": "R",
      "pygments_lexer": "r",
      "version": "3.4.1",
      "file_extension": ".r",
      "codemirror_mode": "r"
    }
  },
  "nbformat": 4,
  "nbformat_minor": 2
}