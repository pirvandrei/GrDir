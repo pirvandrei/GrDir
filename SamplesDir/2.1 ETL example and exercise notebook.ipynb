{
  "cells": [
    {
      "metadata": {
        "collapsed": true
      },
      "cell_type": "markdown",
      "source": "# ETL example and exercise notebook\n\nIn this notebook the example data from the book and other data is loaded and examples of ETL is presented. Futhermore, there are exercises you can try out yourself."
    },
    {
      "metadata": {},
      "cell_type": "markdown",
      "source": "## 1 Loading data into R\n\nIn this section we will load different types of data into R.\n\nFirst we will load the data from the Books [Github page](https://github.com/jgendron/com.packtpub.intro.r.bi). You can see the raw data [here](https://raw.githubusercontent.com/jgendron/com.packtpub.intro.r.bi/master/Chapter1-ExtractTransformLoad/data/Ch1_bike_sharing_data.csv)"
    },
    {
      "metadata": {
        "trusted": true
      },
      "cell_type": "code",
      "source": "url <- \"https://raw.githubusercontent.com/jgendron/com.packtpub.intro.r.bi/master/Chapter1-ExtractTransformLoad/data/Ch1_bike_sharing_data.csv\"\nbikeData <- read.csv(url)",
      "execution_count": 1,
      "outputs": []
    },
    {
      "metadata": {},
      "cell_type": "markdown",
      "source": "The above command first store the url of the data in the a variable called `url`. Then, this variable is passed to the function `read.csv` that reads the data into the data frame `bikeData`. (So you can read csv files directly into R from the web without downloading the file first.)\n\nYou can see the first 6 lines of the data set by using the function `head` on `bikeData`:"
    },
    {
      "metadata": {
        "trusted": true
      },
      "cell_type": "code",
      "source": "head(bikeData)",
      "execution_count": 2,
      "outputs": [
        {
          "output_type": "display_data",
          "data": {
            "text/plain": "  datetime      season holiday workingday weather temp atemp  humidity\n1 1/1/2011 0:00 1      0       0          1       9.84 14.395 81      \n2 1/1/2011 1:00 1      0       0          1       9.02 13.635 80      \n3 1/1/2011 2:00 1      0       0          1       9.02 13.635 80      \n4 1/1/2011 3:00 1      0       0          1       9.84 14.395 75      \n5 1/1/2011 4:00 1      0       0          1       9.84 14.395 75      \n6 1/1/2011 5:00 1      0       0          2       9.84 12.880 75      \n  windspeed casual registered count\n1 0.0000    3      13         16   \n2 0.0000    8      32         40   \n3 0.0000    5      27         32   \n4 0.0000    3      10         13   \n5 0.0000    0       1          1   \n6 6.0032    0       1          1   ",
            "text/latex": "\\begin{tabular}{r|llllllllllll}\n datetime & season & holiday & workingday & weather & temp & atemp & humidity & windspeed & casual & registered & count\\\\\n\\hline\n\t 1/1/2011 0:00 & 1             & 0             & 0             & 1             & 9.84          & 14.395        & 81            & 0.0000        & 3             & 13            & 16           \\\\\n\t 1/1/2011 1:00 & 1             & 0             & 0             & 1             & 9.02          & 13.635        & 80            & 0.0000        & 8             & 32            & 40           \\\\\n\t 1/1/2011 2:00 & 1             & 0             & 0             & 1             & 9.02          & 13.635        & 80            & 0.0000        & 5             & 27            & 32           \\\\\n\t 1/1/2011 3:00 & 1             & 0             & 0             & 1             & 9.84          & 14.395        & 75            & 0.0000        & 3             & 10            & 13           \\\\\n\t 1/1/2011 4:00 & 1             & 0             & 0             & 1             & 9.84          & 14.395        & 75            & 0.0000        & 0             &  1            &  1           \\\\\n\t 1/1/2011 5:00 & 1             & 0             & 0             & 2             & 9.84          & 12.880        & 75            & 6.0032        & 0             &  1            &  1           \\\\\n\\end{tabular}\n",
            "text/markdown": "\ndatetime | season | holiday | workingday | weather | temp | atemp | humidity | windspeed | casual | registered | count | \n|---|---|---|---|---|---|\n| 1/1/2011 0:00 | 1             | 0             | 0             | 1             | 9.84          | 14.395        | 81            | 0.0000        | 3             | 13            | 16            | \n| 1/1/2011 1:00 | 1             | 0             | 0             | 1             | 9.02          | 13.635        | 80            | 0.0000        | 8             | 32            | 40            | \n| 1/1/2011 2:00 | 1             | 0             | 0             | 1             | 9.02          | 13.635        | 80            | 0.0000        | 5             | 27            | 32            | \n| 1/1/2011 3:00 | 1             | 0             | 0             | 1             | 9.84          | 14.395        | 75            | 0.0000        | 3             | 10            | 13            | \n| 1/1/2011 4:00 | 1             | 0             | 0             | 1             | 9.84          | 14.395        | 75            | 0.0000        | 0             |  1            |  1            | \n| 1/1/2011 5:00 | 1             | 0             | 0             | 2             | 9.84          | 12.880        | 75            | 6.0032        | 0             |  1            |  1            | \n\n\n",
            "text/html": "<table>\n<thead><tr><th scope=col>datetime</th><th scope=col>season</th><th scope=col>holiday</th><th scope=col>workingday</th><th scope=col>weather</th><th scope=col>temp</th><th scope=col>atemp</th><th scope=col>humidity</th><th scope=col>windspeed</th><th scope=col>casual</th><th scope=col>registered</th><th scope=col>count</th></tr></thead>\n<tbody>\n\t<tr><td>1/1/2011 0:00</td><td>1            </td><td>0            </td><td>0            </td><td>1            </td><td>9.84         </td><td>14.395       </td><td>81           </td><td>0.0000       </td><td>3            </td><td>13           </td><td>16           </td></tr>\n\t<tr><td>1/1/2011 1:00</td><td>1            </td><td>0            </td><td>0            </td><td>1            </td><td>9.02         </td><td>13.635       </td><td>80           </td><td>0.0000       </td><td>8            </td><td>32           </td><td>40           </td></tr>\n\t<tr><td>1/1/2011 2:00</td><td>1            </td><td>0            </td><td>0            </td><td>1            </td><td>9.02         </td><td>13.635       </td><td>80           </td><td>0.0000       </td><td>5            </td><td>27           </td><td>32           </td></tr>\n\t<tr><td>1/1/2011 3:00</td><td>1            </td><td>0            </td><td>0            </td><td>1            </td><td>9.84         </td><td>14.395       </td><td>75           </td><td>0.0000       </td><td>3            </td><td>10           </td><td>13           </td></tr>\n\t<tr><td>1/1/2011 4:00</td><td>1            </td><td>0            </td><td>0            </td><td>1            </td><td>9.84         </td><td>14.395       </td><td>75           </td><td>0.0000       </td><td>0            </td><td> 1           </td><td> 1           </td></tr>\n\t<tr><td>1/1/2011 5:00</td><td>1            </td><td>0            </td><td>0            </td><td>2            </td><td>9.84         </td><td>12.880       </td><td>75           </td><td>6.0032       </td><td>0            </td><td> 1           </td><td> 1           </td></tr>\n</tbody>\n</table>\n"
          },
          "metadata": {}
        }
      ]
    },
    {
      "metadata": {},
      "cell_type": "markdown",
      "source": "If you want to se another number of the first line, you can pass that number as the second argument to the `head` function. For instance, if you want to see the first 15 lines of the `bikeData` data frame, you can simply do:"
    },
    {
      "metadata": {
        "trusted": true
      },
      "cell_type": "code",
      "source": "head(bikeData, 15)",
      "execution_count": 3,
      "outputs": [
        {
          "output_type": "display_data",
          "data": {
            "text/plain": "   datetime       season holiday workingday weather temp  atemp  humidity\n1  1/1/2011 0:00  1      0       0          1        9.84 14.395 81      \n2  1/1/2011 1:00  1      0       0          1        9.02 13.635 80      \n3  1/1/2011 2:00  1      0       0          1        9.02 13.635 80      \n4  1/1/2011 3:00  1      0       0          1        9.84 14.395 75      \n5  1/1/2011 4:00  1      0       0          1        9.84 14.395 75      \n6  1/1/2011 5:00  1      0       0          2        9.84 12.880 75      \n7  1/1/2011 6:00  1      0       0          1        9.02 13.635 80      \n8  1/1/2011 7:00  1      0       0          1        8.20 12.880 86      \n9  1/1/2011 8:00  1      0       0          1        9.84 14.395 75      \n10 1/1/2011 9:00  1      0       0          1       13.12 17.425 76      \n11 1/1/2011 10:00 1      0       0          1       15.58 19.695 76      \n12 1/1/2011 11:00 1      0       0          1       14.76 16.665 81      \n13 1/1/2011 12:00 1      0       0          1       17.22 21.210 77      \n14 1/1/2011 13:00 1      0       0          2       18.86 22.725 72      \n15 1/1/2011 14:00 1      0       0          2       18.86 22.725 72      \n   windspeed casual registered count\n1   0.0000    3     13          16  \n2   0.0000    8     32          40  \n3   0.0000    5     27          32  \n4   0.0000    3     10          13  \n5   0.0000    0      1           1  \n6   6.0032    0      1           1  \n7   0.0000    2      0           2  \n8   0.0000    1      2           3  \n9   0.0000    1      7           8  \n10  0.0000    8      6          14  \n11 16.9979   12     24          36  \n12 19.0012   26     30          56  \n13 19.0012   29     55          84  \n14 19.9995   47     47          94  \n15 19.0012   35     71         106  ",
            "text/latex": "\\begin{tabular}{r|llllllllllll}\n datetime & season & holiday & workingday & weather & temp & atemp & humidity & windspeed & casual & registered & count\\\\\n\\hline\n\t 1/1/2011 0:00  & 1              & 0              & 0              & 1              &  9.84          & 14.395         & 81             &  0.0000        &  3             & 13             &  16           \\\\\n\t 1/1/2011 1:00  & 1              & 0              & 0              & 1              &  9.02          & 13.635         & 80             &  0.0000        &  8             & 32             &  40           \\\\\n\t 1/1/2011 2:00  & 1              & 0              & 0              & 1              &  9.02          & 13.635         & 80             &  0.0000        &  5             & 27             &  32           \\\\\n\t 1/1/2011 3:00  & 1              & 0              & 0              & 1              &  9.84          & 14.395         & 75             &  0.0000        &  3             & 10             &  13           \\\\\n\t 1/1/2011 4:00  & 1              & 0              & 0              & 1              &  9.84          & 14.395         & 75             &  0.0000        &  0             &  1             &   1           \\\\\n\t 1/1/2011 5:00  & 1              & 0              & 0              & 2              &  9.84          & 12.880         & 75             &  6.0032        &  0             &  1             &   1           \\\\\n\t 1/1/2011 6:00  & 1              & 0              & 0              & 1              &  9.02          & 13.635         & 80             &  0.0000        &  2             &  0             &   2           \\\\\n\t 1/1/2011 7:00  & 1              & 0              & 0              & 1              &  8.20          & 12.880         & 86             &  0.0000        &  1             &  2             &   3           \\\\\n\t 1/1/2011 8:00  & 1              & 0              & 0              & 1              &  9.84          & 14.395         & 75             &  0.0000        &  1             &  7             &   8           \\\\\n\t 1/1/2011 9:00  & 1              & 0              & 0              & 1              & 13.12          & 17.425         & 76             &  0.0000        &  8             &  6             &  14           \\\\\n\t 1/1/2011 10:00 & 1              & 0              & 0              & 1              & 15.58          & 19.695         & 76             & 16.9979        & 12             & 24             &  36           \\\\\n\t 1/1/2011 11:00 & 1              & 0              & 0              & 1              & 14.76          & 16.665         & 81             & 19.0012        & 26             & 30             &  56           \\\\\n\t 1/1/2011 12:00 & 1              & 0              & 0              & 1              & 17.22          & 21.210         & 77             & 19.0012        & 29             & 55             &  84           \\\\\n\t 1/1/2011 13:00 & 1              & 0              & 0              & 2              & 18.86          & 22.725         & 72             & 19.9995        & 47             & 47             &  94           \\\\\n\t 1/1/2011 14:00 & 1              & 0              & 0              & 2              & 18.86          & 22.725         & 72             & 19.0012        & 35             & 71             & 106           \\\\\n\\end{tabular}\n",
            "text/markdown": "\ndatetime | season | holiday | workingday | weather | temp | atemp | humidity | windspeed | casual | registered | count | \n|---|---|---|---|---|---|---|---|---|---|---|---|---|---|---|\n| 1/1/2011 0:00  | 1              | 0              | 0              | 1              |  9.84          | 14.395         | 81             |  0.0000        |  3             | 13             |  16            | \n| 1/1/2011 1:00  | 1              | 0              | 0              | 1              |  9.02          | 13.635         | 80             |  0.0000        |  8             | 32             |  40            | \n| 1/1/2011 2:00  | 1              | 0              | 0              | 1              |  9.02          | 13.635         | 80             |  0.0000        |  5             | 27             |  32            | \n| 1/1/2011 3:00  | 1              | 0              | 0              | 1              |  9.84          | 14.395         | 75             |  0.0000        |  3             | 10             |  13            | \n| 1/1/2011 4:00  | 1              | 0              | 0              | 1              |  9.84          | 14.395         | 75             |  0.0000        |  0             |  1             |   1            | \n| 1/1/2011 5:00  | 1              | 0              | 0              | 2              |  9.84          | 12.880         | 75             |  6.0032        |  0             |  1             |   1            | \n| 1/1/2011 6:00  | 1              | 0              | 0              | 1              |  9.02          | 13.635         | 80             |  0.0000        |  2             |  0             |   2            | \n| 1/1/2011 7:00  | 1              | 0              | 0              | 1              |  8.20          | 12.880         | 86             |  0.0000        |  1             |  2             |   3            | \n| 1/1/2011 8:00  | 1              | 0              | 0              | 1              |  9.84          | 14.395         | 75             |  0.0000        |  1             |  7             |   8            | \n| 1/1/2011 9:00  | 1              | 0              | 0              | 1              | 13.12          | 17.425         | 76             |  0.0000        |  8             |  6             |  14            | \n| 1/1/2011 10:00 | 1              | 0              | 0              | 1              | 15.58          | 19.695         | 76             | 16.9979        | 12             | 24             |  36            | \n| 1/1/2011 11:00 | 1              | 0              | 0              | 1              | 14.76          | 16.665         | 81             | 19.0012        | 26             | 30             |  56            | \n| 1/1/2011 12:00 | 1              | 0              | 0              | 1              | 17.22          | 21.210         | 77             | 19.0012        | 29             | 55             |  84            | \n| 1/1/2011 13:00 | 1              | 0              | 0              | 2              | 18.86          | 22.725         | 72             | 19.9995        | 47             | 47             |  94            | \n| 1/1/2011 14:00 | 1              | 0              | 0              | 2              | 18.86          | 22.725         | 72             | 19.0012        | 35             | 71             | 106            | \n\n\n",
            "text/html": "<table>\n<thead><tr><th scope=col>datetime</th><th scope=col>season</th><th scope=col>holiday</th><th scope=col>workingday</th><th scope=col>weather</th><th scope=col>temp</th><th scope=col>atemp</th><th scope=col>humidity</th><th scope=col>windspeed</th><th scope=col>casual</th><th scope=col>registered</th><th scope=col>count</th></tr></thead>\n<tbody>\n\t<tr><td>1/1/2011 0:00 </td><td>1             </td><td>0             </td><td>0             </td><td>1             </td><td> 9.84         </td><td>14.395        </td><td>81            </td><td> 0.0000       </td><td> 3            </td><td>13            </td><td> 16           </td></tr>\n\t<tr><td>1/1/2011 1:00 </td><td>1             </td><td>0             </td><td>0             </td><td>1             </td><td> 9.02         </td><td>13.635        </td><td>80            </td><td> 0.0000       </td><td> 8            </td><td>32            </td><td> 40           </td></tr>\n\t<tr><td>1/1/2011 2:00 </td><td>1             </td><td>0             </td><td>0             </td><td>1             </td><td> 9.02         </td><td>13.635        </td><td>80            </td><td> 0.0000       </td><td> 5            </td><td>27            </td><td> 32           </td></tr>\n\t<tr><td>1/1/2011 3:00 </td><td>1             </td><td>0             </td><td>0             </td><td>1             </td><td> 9.84         </td><td>14.395        </td><td>75            </td><td> 0.0000       </td><td> 3            </td><td>10            </td><td> 13           </td></tr>\n\t<tr><td>1/1/2011 4:00 </td><td>1             </td><td>0             </td><td>0             </td><td>1             </td><td> 9.84         </td><td>14.395        </td><td>75            </td><td> 0.0000       </td><td> 0            </td><td> 1            </td><td>  1           </td></tr>\n\t<tr><td>1/1/2011 5:00 </td><td>1             </td><td>0             </td><td>0             </td><td>2             </td><td> 9.84         </td><td>12.880        </td><td>75            </td><td> 6.0032       </td><td> 0            </td><td> 1            </td><td>  1           </td></tr>\n\t<tr><td>1/1/2011 6:00 </td><td>1             </td><td>0             </td><td>0             </td><td>1             </td><td> 9.02         </td><td>13.635        </td><td>80            </td><td> 0.0000       </td><td> 2            </td><td> 0            </td><td>  2           </td></tr>\n\t<tr><td>1/1/2011 7:00 </td><td>1             </td><td>0             </td><td>0             </td><td>1             </td><td> 8.20         </td><td>12.880        </td><td>86            </td><td> 0.0000       </td><td> 1            </td><td> 2            </td><td>  3           </td></tr>\n\t<tr><td>1/1/2011 8:00 </td><td>1             </td><td>0             </td><td>0             </td><td>1             </td><td> 9.84         </td><td>14.395        </td><td>75            </td><td> 0.0000       </td><td> 1            </td><td> 7            </td><td>  8           </td></tr>\n\t<tr><td>1/1/2011 9:00 </td><td>1             </td><td>0             </td><td>0             </td><td>1             </td><td>13.12         </td><td>17.425        </td><td>76            </td><td> 0.0000       </td><td> 8            </td><td> 6            </td><td> 14           </td></tr>\n\t<tr><td>1/1/2011 10:00</td><td>1             </td><td>0             </td><td>0             </td><td>1             </td><td>15.58         </td><td>19.695        </td><td>76            </td><td>16.9979       </td><td>12            </td><td>24            </td><td> 36           </td></tr>\n\t<tr><td>1/1/2011 11:00</td><td>1             </td><td>0             </td><td>0             </td><td>1             </td><td>14.76         </td><td>16.665        </td><td>81            </td><td>19.0012       </td><td>26            </td><td>30            </td><td> 56           </td></tr>\n\t<tr><td>1/1/2011 12:00</td><td>1             </td><td>0             </td><td>0             </td><td>1             </td><td>17.22         </td><td>21.210        </td><td>77            </td><td>19.0012       </td><td>29            </td><td>55            </td><td> 84           </td></tr>\n\t<tr><td>1/1/2011 13:00</td><td>1             </td><td>0             </td><td>0             </td><td>2             </td><td>18.86         </td><td>22.725        </td><td>72            </td><td>19.9995       </td><td>47            </td><td>47            </td><td> 94           </td></tr>\n\t<tr><td>1/1/2011 14:00</td><td>1             </td><td>0             </td><td>0             </td><td>2             </td><td>18.86         </td><td>22.725        </td><td>72            </td><td>19.0012       </td><td>35            </td><td>71            </td><td>106           </td></tr>\n</tbody>\n</table>\n"
          },
          "metadata": {}
        }
      ]
    },
    {
      "metadata": {},
      "cell_type": "markdown",
      "source": "### *Exercise*\n\nWhat do you think the `tail` function does? Try to read the help page by typing `?tail` and try using the `tail` function on the `bikeData` data frame below."
    },
    {
      "metadata": {
        "trusted": true
      },
      "cell_type": "code",
      "source": "",
      "execution_count": null,
      "outputs": []
    },
    {
      "metadata": {},
      "cell_type": "markdown",
      "source": "While the `head` function gives you an example of the data by showing you the first lines, the `str` function will provide you with more information about the data frame. Try it out:"
    },
    {
      "metadata": {
        "trusted": true
      },
      "cell_type": "code",
      "source": "str(bikeData)",
      "execution_count": null,
      "outputs": []
    },
    {
      "metadata": {},
      "cell_type": "markdown",
      "source": "As you can see the `str` function tells you that `bikeData` is a `'data.frame'` and that it has 17379 rows and 12 columns. Moreover, for each column it tells you the name, the data type, and give you examples of the first couple of values. For instance, the `temp` variable is of numeric data type and the first couple of values are 9.84, 9.02, 9.02, ... Similar, `count` is a integer data type with the first couple of values 16, 40, 32, 13, ...\n\nThe datatime variable is a Factor variable as you can also see from above. It also tell you the number of levels of the factor variable. In this case the number of factors is the same as the number of observations/rows. This should make you suspicious. What you really want is the `datetime` variable to be of some datetime data type. To get the datetime column imported as basic text string instead of factor, we can tell R to read all string variables as strings instead of factors (- by default R read all string variables in as factors). To do this pass the argument `stringsAsFactors=FALSE` to the function reading in the data:"
    },
    {
      "metadata": {
        "trusted": true
      },
      "cell_type": "code",
      "source": "bikeData <- read.csv(url, stringsAsFactors=FALSE)\nstr(bikeData)",
      "execution_count": null,
      "outputs": []
    },
    {
      "metadata": {},
      "cell_type": "markdown",
      "source": "As you can see the `datatime` column is now of type `chr` which means character (or text string)."
    },
    {
      "metadata": {},
      "cell_type": "markdown",
      "source": "### Loading in excel files\n\nLet us try to import another data set. This time we will load an excel sheet from a local folder, that is from a folder in the current Azure Notebook library.\n\nIf you want to load in a file from you local computer you first have to upload the file to the Azure notebook library. So you should start by uploading the file \"Webanalytics_data_example.xlsx\" (Find this on the Moodle page for todays lecture) to your clone of the \"BIBA 2018\" library. To do this, from the Azure notebook library click the \"+ New\" and them \"From computer\". Click \"Choose file\" and then \"Upload\".\n\nBefore we can read in the file, we need a function that can read excel files. Such a function we can find in one of the packages the comes with the \"tidyverse\" collection of packages. This collection of packages is already installed on the Azure notebooks servers (if you work locally, you can install the packages using the command `install.packages(\"tidyverse\")`). The particular package we need is called \"readxl\" and we load it with the following command:"
    },
    {
      "metadata": {
        "trusted": true
      },
      "cell_type": "code",
      "source": "library(readxl)",
      "execution_count": 4,
      "outputs": []
    },
    {
      "metadata": {},
      "cell_type": "markdown",
      "source": "The package \"readr\" contains the function `read_excel` that we can try and read the file we just uploaded with:"
    },
    {
      "metadata": {
        "trusted": true
      },
      "cell_type": "code",
      "source": "webAnalyticsData <- read_excel(\"Webanalytics_data_example.xlsx\")",
      "execution_count": 8,
      "outputs": []
    },
    {
      "metadata": {},
      "cell_type": "markdown",
      "source": "Let us look at what we loaded in:"
    },
    {
      "metadata": {
        "trusted": true
      },
      "cell_type": "code",
      "source": "head(webAnalyticsData)",
      "execution_count": 9,
      "outputs": [
        {
          "output_type": "display_data",
          "data": {
            "text/plain": "     Here is some data sets as they might look when you download them from Google Analytics",
            "text/latex": "\\begin{tabular}{r|l}\n Here is some data sets as they might look when you download them from Google Analytics\\\\\n\\hline\n\\end{tabular}\n",
            "text/markdown": "\nHere is some data sets as they might look when you download them from Google Analytics | \n||\n\n\n",
            "text/html": "<table>\n<thead><tr><th scope=col>Here is some data sets as they might look when you download them from Google Analytics</th></tr></thead>\n<tbody>\n</tbody>\n</table>\n"
          },
          "metadata": {}
        }
      ]
    },
    {
      "metadata": {},
      "cell_type": "markdown",
      "source": "Something seems weird here... If you open the file in Excel (try to do that), you will see that there are multiple sheets, and the one we loaded in is the first one. We want the second one, that is the sheet named \"Dataset1\". However, reading the help page for the function `read_excel` tell us that it is easily done by adding the argument `sheet = 2` or `sheet = Dataset1`. So try this:"
    },
    {
      "metadata": {
        "trusted": true,
        "scrolled": true
      },
      "cell_type": "code",
      "source": "webAnalyticsData <- read_excel(\"Webanalytics_data_example.xlsx\", sheet = \"Dataset1\")\nhead(webAnalyticsData)",
      "execution_count": 10,
      "outputs": [
        {
          "output_type": "display_data",
          "data": {
            "text/plain": "  MediaChannel   Sessions PercentNewSessions NewUsers BounceRate\n1 Organic_Search 76852    0.7840915          60259    0.3948368 \n2 Social         59398    0.9433146          56031    0.5423752 \n3 Paid_Search    31882    0.6663948          21246    0.6219183 \n4 Direct         26348    0.7586534          19989    0.4594656 \n5 Referral       18762    0.5305405           9954    0.2699606 \n6 Display         6411    0.8502574           5451    0.8341912 \n  PagesPerSession AvgSessionDuration Transactions Revenue  \n1  7.225290       161.32634           989          94966.75\n2  3.232348       111.79883            38           1692.29\n3  4.461326        97.98413           425          21515.42\n4  6.277820       162.81221           367          52054.79\n5 12.226149       259.00032          1231         202558.88\n6  2.359850        34.35470            34           7956.42",
            "text/latex": "\\begin{tabular}{r|lllllllll}\n MediaChannel & Sessions & PercentNewSessions & NewUsers & BounceRate & PagesPerSession & AvgSessionDuration & Transactions & Revenue\\\\\n\\hline\n\t Organic\\_Search & 76852            & 0.7840915        & 60259            & 0.3948368        &  7.225290        & 161.32634        &  989             &  94966.75       \\\\\n\t Social         & 59398          & 0.9433146      & 56031          & 0.5423752      &  3.232348      & 111.79883      &   38           &   1692.29     \\\\\n\t Paid\\_Search    & 31882            & 0.6663948        & 21246            & 0.6219183        &  4.461326        &  97.98413        &  425             &  21515.42       \\\\\n\t Direct         & 26348          & 0.7586534      & 19989          & 0.4594656      &  6.277820      & 162.81221      &  367           &  52054.79     \\\\\n\t Referral       & 18762          & 0.5305405      &  9954          & 0.2699606      & 12.226149      & 259.00032      & 1231           & 202558.88     \\\\\n\t Display        &  6411          & 0.8502574      &  5451          & 0.8341912      &  2.359850      &  34.35470      &   34           &   7956.42     \\\\\n\\end{tabular}\n",
            "text/markdown": "\nMediaChannel | Sessions | PercentNewSessions | NewUsers | BounceRate | PagesPerSession | AvgSessionDuration | Transactions | Revenue | \n|---|---|---|---|---|---|\n| Organic_Search | 76852          | 0.7840915      | 60259          | 0.3948368      |  7.225290      | 161.32634      |  989           |  94966.75      | \n| Social         | 59398          | 0.9433146      | 56031          | 0.5423752      |  3.232348      | 111.79883      |   38           |   1692.29      | \n| Paid_Search    | 31882          | 0.6663948      | 21246          | 0.6219183      |  4.461326      |  97.98413      |  425           |  21515.42      | \n| Direct         | 26348          | 0.7586534      | 19989          | 0.4594656      |  6.277820      | 162.81221      |  367           |  52054.79      | \n| Referral       | 18762          | 0.5305405      |  9954          | 0.2699606      | 12.226149      | 259.00032      | 1231           | 202558.88      | \n| Display        |  6411          | 0.8502574      |  5451          | 0.8341912      |  2.359850      |  34.35470      |   34           |   7956.42      | \n\n\n",
            "text/html": "<table>\n<thead><tr><th scope=col>MediaChannel</th><th scope=col>Sessions</th><th scope=col>PercentNewSessions</th><th scope=col>NewUsers</th><th scope=col>BounceRate</th><th scope=col>PagesPerSession</th><th scope=col>AvgSessionDuration</th><th scope=col>Transactions</th><th scope=col>Revenue</th></tr></thead>\n<tbody>\n\t<tr><td>Organic_Search</td><td>76852         </td><td>0.7840915     </td><td>60259         </td><td>0.3948368     </td><td> 7.225290     </td><td>161.32634     </td><td> 989          </td><td> 94966.75     </td></tr>\n\t<tr><td>Social        </td><td>59398         </td><td>0.9433146     </td><td>56031         </td><td>0.5423752     </td><td> 3.232348     </td><td>111.79883     </td><td>  38          </td><td>  1692.29     </td></tr>\n\t<tr><td>Paid_Search   </td><td>31882         </td><td>0.6663948     </td><td>21246         </td><td>0.6219183     </td><td> 4.461326     </td><td> 97.98413     </td><td> 425          </td><td> 21515.42     </td></tr>\n\t<tr><td>Direct        </td><td>26348         </td><td>0.7586534     </td><td>19989         </td><td>0.4594656     </td><td> 6.277820     </td><td>162.81221     </td><td> 367          </td><td> 52054.79     </td></tr>\n\t<tr><td>Referral      </td><td>18762         </td><td>0.5305405     </td><td> 9954         </td><td>0.2699606     </td><td>12.226149     </td><td>259.00032     </td><td>1231          </td><td>202558.88     </td></tr>\n\t<tr><td>Display       </td><td> 6411         </td><td>0.8502574     </td><td> 5451         </td><td>0.8341912     </td><td> 2.359850     </td><td> 34.35470     </td><td>  34          </td><td>  7956.42     </td></tr>\n</tbody>\n</table>\n"
          },
          "metadata": {}
        }
      ]
    },
    {
      "metadata": {
        "trusted": true
      },
      "cell_type": "markdown",
      "source": "### *Exercise*\n\nUse the `str` function to figure out what the different data types are of the different columns"
    },
    {
      "metadata": {
        "trusted": true
      },
      "cell_type": "code",
      "source": "",
      "execution_count": null,
      "outputs": []
    },
    {
      "metadata": {},
      "cell_type": "markdown",
      "source": "### *Exercise*\n\nTry to load the third sheet (\"Dataset2\") into a data frame called \"webAnalyticsData2\". (You might run into some problems. If so check the excel file and consider whether you need to skip some lines. Figure out how to do this by looking at the help page for the function `read_excel`. (If you manage to do it correctly, the cell below should give you a nice plot.)"
    },
    {
      "metadata": {
        "trusted": true
      },
      "cell_type": "code",
      "source": "",
      "execution_count": null,
      "outputs": []
    },
    {
      "metadata": {
        "trusted": true,
        "scrolled": true
      },
      "cell_type": "code",
      "source": "# If you did the exercise correctly, this code should give you a nice plot\nlibrary(dplyr); library(ggplot2); webAnalyticsData2 %>% select(Dates = contains(\"Day\"), Sessions) %>% ggplot(aes(Dates, Sessions)) + geom_line()",
      "execution_count": 11,
      "outputs": [
        {
          "output_type": "stream",
          "text": "\nAttaching package: ‘dplyr’\n\nThe following objects are masked from ‘package:stats’:\n\n    filter, lag\n\nThe following objects are masked from ‘package:base’:\n\n    intersect, setdiff, setequal, union\n\n",
          "name": "stderr"
        },
        {
          "output_type": "error",
          "ename": "ERROR",
          "evalue": "Error in eval(lhs, parent, parent): object 'webAnalyticsData2' not found\n",
          "traceback": [
            "Error in eval(lhs, parent, parent): object 'webAnalyticsData2' not found\nTraceback:\n",
            "1. webAnalyticsData2 %>% select(Dates = contains(\"Day\"), Sessions) %>% \n .     ggplot(aes(Dates, Sessions))",
            "2. eval(lhs, parent, parent)",
            "3. eval(lhs, parent, parent)"
          ]
        }
      ]
    },
    {
      "metadata": {
        "trusted": true
      },
      "cell_type": "markdown",
      "source": "## 2 Transforming data in R \n\nLet us try and do some transformation on the data we have just loaded into R."
    },
    {
      "metadata": {
        "trusted": true
      },
      "cell_type": "markdown",
      "source": "### *Exercise*\n\nFilter the `webAnalyticsData` data frame on the rows for which the bounce rate i bigger than 0.6.\n\n(Bounce rate is defined as the percentage of users who left a website immediately after going there, in other words they most likely ended there by mistake or did not find the website interesting. Thus this will give us an idea of which MediaChannels provide the biggest fraction of useless visitors to the website.)"
    },
    {
      "metadata": {
        "trusted": true
      },
      "cell_type": "code",
      "source": "filter(webAnalyticsData, BounceRate > 0.6)",
      "execution_count": 12,
      "outputs": [
        {
          "output_type": "display_data",
          "data": {
            "text/plain": "  MediaChannel Sessions PercentNewSessions NewUsers BounceRate PagesPerSession\n1 Paid_Search  31882    0.6663948          21246    0.6219183  4.461326       \n2 Display       6411    0.8502574           5451    0.8341912  2.359850       \n  AvgSessionDuration Transactions Revenue \n1 97.98413           425          21515.42\n2 34.35470            34           7956.42",
            "text/latex": "\\begin{tabular}{r|lllllllll}\n MediaChannel & Sessions & PercentNewSessions & NewUsers & BounceRate & PagesPerSession & AvgSessionDuration & Transactions & Revenue\\\\\n\\hline\n\t Paid\\_Search & 31882         & 0.6663948     & 21246         & 0.6219183     & 4.461326      & 97.98413      & 425           & 21515.42     \\\\\n\t Display     &  6411       & 0.8502574   &  5451       & 0.8341912   & 2.359850    & 34.35470    &  34         &  7956.42   \\\\\n\\end{tabular}\n",
            "text/markdown": "\nMediaChannel | Sessions | PercentNewSessions | NewUsers | BounceRate | PagesPerSession | AvgSessionDuration | Transactions | Revenue | \n|---|---|\n| Paid_Search | 31882       | 0.6663948   | 21246       | 0.6219183   | 4.461326    | 97.98413    | 425         | 21515.42    | \n| Display     |  6411       | 0.8502574   |  5451       | 0.8341912   | 2.359850    | 34.35470    |  34         |  7956.42    | \n\n\n",
            "text/html": "<table>\n<thead><tr><th scope=col>MediaChannel</th><th scope=col>Sessions</th><th scope=col>PercentNewSessions</th><th scope=col>NewUsers</th><th scope=col>BounceRate</th><th scope=col>PagesPerSession</th><th scope=col>AvgSessionDuration</th><th scope=col>Transactions</th><th scope=col>Revenue</th></tr></thead>\n<tbody>\n\t<tr><td>Paid_Search</td><td>31882      </td><td>0.6663948  </td><td>21246      </td><td>0.6219183  </td><td>4.461326   </td><td>97.98413   </td><td>425        </td><td>21515.42   </td></tr>\n\t<tr><td>Display    </td><td> 6411      </td><td>0.8502574  </td><td> 5451      </td><td>0.8341912  </td><td>2.359850   </td><td>34.35470   </td><td> 34        </td><td> 7956.42   </td></tr>\n</tbody>\n</table>\n"
          },
          "metadata": {}
        }
      ]
    },
    {
      "metadata": {},
      "cell_type": "markdown",
      "source": "### *Exercise*\n\nFilter the `webAnalyticsData` data frame on the rows fow which Transactions i bigger than 100 and Sessions is less than 30000\n\n(This give us media channels with a decent amount of transactions given not to many sessions. Thus the are somewhat effective these media channels.)"
    },
    {
      "metadata": {
        "trusted": true
      },
      "cell_type": "code",
      "source": "filter(webAnalyticsData, Transactions > 100 & Sessions < 30000)",
      "execution_count": 13,
      "outputs": [
        {
          "output_type": "display_data",
          "data": {
            "text/plain": "  MediaChannel Sessions PercentNewSessions NewUsers BounceRate PagesPerSession\n1 Direct       26348    0.7586534          19989    0.4594656   6.27782       \n2 Referral     18762    0.5305405           9954    0.2699606  12.22615       \n  AvgSessionDuration Transactions Revenue  \n1 162.8122            367          52054.79\n2 259.0003           1231         202558.88",
            "text/latex": "\\begin{tabular}{r|lllllllll}\n MediaChannel & Sessions & PercentNewSessions & NewUsers & BounceRate & PagesPerSession & AvgSessionDuration & Transactions & Revenue\\\\\n\\hline\n\t Direct    & 26348     & 0.7586534 & 19989     & 0.4594656 &  6.27782  & 162.8122  &  367      &  52054.79\\\\\n\t Referral  & 18762     & 0.5305405 &  9954     & 0.2699606 & 12.22615  & 259.0003  & 1231      & 202558.88\\\\\n\\end{tabular}\n",
            "text/markdown": "\nMediaChannel | Sessions | PercentNewSessions | NewUsers | BounceRate | PagesPerSession | AvgSessionDuration | Transactions | Revenue | \n|---|---|\n| Direct    | 26348     | 0.7586534 | 19989     | 0.4594656 |  6.27782  | 162.8122  |  367      |  52054.79 | \n| Referral  | 18762     | 0.5305405 |  9954     | 0.2699606 | 12.22615  | 259.0003  | 1231      | 202558.88 | \n\n\n",
            "text/html": "<table>\n<thead><tr><th scope=col>MediaChannel</th><th scope=col>Sessions</th><th scope=col>PercentNewSessions</th><th scope=col>NewUsers</th><th scope=col>BounceRate</th><th scope=col>PagesPerSession</th><th scope=col>AvgSessionDuration</th><th scope=col>Transactions</th><th scope=col>Revenue</th></tr></thead>\n<tbody>\n\t<tr><td>Direct   </td><td>26348    </td><td>0.7586534</td><td>19989    </td><td>0.4594656</td><td> 6.27782 </td><td>162.8122 </td><td> 367     </td><td> 52054.79</td></tr>\n\t<tr><td>Referral </td><td>18762    </td><td>0.5305405</td><td> 9954    </td><td>0.2699606</td><td>12.22615 </td><td>259.0003 </td><td>1231     </td><td>202558.88</td></tr>\n</tbody>\n</table>\n"
          },
          "metadata": {}
        }
      ]
    },
    {
      "metadata": {},
      "cell_type": "markdown",
      "source": "### *Exercise*\n\nWe can create a more precise measure for the effectiveness of a media channel by calculating the precentage of sessions that ended in a transaction. That is for how many of the users sessions that the website had, did the user end up actually buying something. This is often also refered to as the conversion rate.\n\nUse the `mutate` function to create a new column called `ConversionRate`, which is `Transactions/Sessions`. Which media had the highest conversion rate?"
    },
    {
      "metadata": {
        "trusted": true
      },
      "cell_type": "code",
      "source": "mutate(webAnalyticsData, ConversionRate = Transactions / Sessions)",
      "execution_count": 14,
      "outputs": [
        {
          "output_type": "display_data",
          "data": {
            "text/plain": "  MediaChannel   Sessions PercentNewSessions NewUsers BounceRate\n1 Organic_Search 76852    0.7840915          60259    0.3948368 \n2 Social         59398    0.9433146          56031    0.5423752 \n3 Paid_Search    31882    0.6663948          21246    0.6219183 \n4 Direct         26348    0.7586534          19989    0.4594656 \n5 Referral       18762    0.5305405           9954    0.2699606 \n6 Display         6411    0.8502574           5451    0.8341912 \n7 Other             29    0.3103448              9    0.5862069 \n8 Email             19    0.2105263              4    0.3157895 \n  PagesPerSession AvgSessionDuration Transactions Revenue   ConversionRate\n1  7.225290       161.32634           989          94966.75 0.0128688909  \n2  3.232348       111.79883            38           1692.29 0.0006397522  \n3  4.461326        97.98413           425          21515.42 0.0133304059  \n4  6.277820       162.81221           367          52054.79 0.0139289510  \n5 12.226149       259.00032          1231         202558.88 0.0656113421  \n6  2.359850        34.35470            34           7956.42 0.0053033848  \n7  2.448276        57.34483             0              0.00 0.0000000000  \n8  3.368421       132.89474             0              0.00 0.0000000000  ",
            "text/latex": "\\begin{tabular}{r|llllllllll}\n MediaChannel & Sessions & PercentNewSessions & NewUsers & BounceRate & PagesPerSession & AvgSessionDuration & Transactions & Revenue & ConversionRate\\\\\n\\hline\n\t Organic\\_Search & 76852            & 0.7840915        & 60259            & 0.3948368        &  7.225290        & 161.32634        &  989             &  94966.75        & 0.0128688909    \\\\\n\t Social         & 59398          & 0.9433146      & 56031          & 0.5423752      &  3.232348      & 111.79883      &   38           &   1692.29      & 0.0006397522  \\\\\n\t Paid\\_Search    & 31882            & 0.6663948        & 21246            & 0.6219183        &  4.461326        &  97.98413        &  425             &  21515.42        & 0.0133304059    \\\\\n\t Direct         & 26348          & 0.7586534      & 19989          & 0.4594656      &  6.277820      & 162.81221      &  367           &  52054.79      & 0.0139289510  \\\\\n\t Referral       & 18762          & 0.5305405      &  9954          & 0.2699606      & 12.226149      & 259.00032      & 1231           & 202558.88      & 0.0656113421  \\\\\n\t Display        &  6411          & 0.8502574      &  5451          & 0.8341912      &  2.359850      &  34.35470      &   34           &   7956.42      & 0.0053033848  \\\\\n\t Other          &    29          & 0.3103448      &     9          & 0.5862069      &  2.448276      &  57.34483      &    0           &      0.00      & 0.0000000000  \\\\\n\t Email          &    19          & 0.2105263      &     4          & 0.3157895      &  3.368421      & 132.89474      &    0           &      0.00      & 0.0000000000  \\\\\n\\end{tabular}\n",
            "text/markdown": "\nMediaChannel | Sessions | PercentNewSessions | NewUsers | BounceRate | PagesPerSession | AvgSessionDuration | Transactions | Revenue | ConversionRate | \n|---|---|---|---|---|---|---|---|\n| Organic_Search | 76852          | 0.7840915      | 60259          | 0.3948368      |  7.225290      | 161.32634      |  989           |  94966.75      | 0.0128688909   | \n| Social         | 59398          | 0.9433146      | 56031          | 0.5423752      |  3.232348      | 111.79883      |   38           |   1692.29      | 0.0006397522   | \n| Paid_Search    | 31882          | 0.6663948      | 21246          | 0.6219183      |  4.461326      |  97.98413      |  425           |  21515.42      | 0.0133304059   | \n| Direct         | 26348          | 0.7586534      | 19989          | 0.4594656      |  6.277820      | 162.81221      |  367           |  52054.79      | 0.0139289510   | \n| Referral       | 18762          | 0.5305405      |  9954          | 0.2699606      | 12.226149      | 259.00032      | 1231           | 202558.88      | 0.0656113421   | \n| Display        |  6411          | 0.8502574      |  5451          | 0.8341912      |  2.359850      |  34.35470      |   34           |   7956.42      | 0.0053033848   | \n| Other          |    29          | 0.3103448      |     9          | 0.5862069      |  2.448276      |  57.34483      |    0           |      0.00      | 0.0000000000   | \n| Email          |    19          | 0.2105263      |     4          | 0.3157895      |  3.368421      | 132.89474      |    0           |      0.00      | 0.0000000000   | \n\n\n",
            "text/html": "<table>\n<thead><tr><th scope=col>MediaChannel</th><th scope=col>Sessions</th><th scope=col>PercentNewSessions</th><th scope=col>NewUsers</th><th scope=col>BounceRate</th><th scope=col>PagesPerSession</th><th scope=col>AvgSessionDuration</th><th scope=col>Transactions</th><th scope=col>Revenue</th><th scope=col>ConversionRate</th></tr></thead>\n<tbody>\n\t<tr><td>Organic_Search</td><td>76852         </td><td>0.7840915     </td><td>60259         </td><td>0.3948368     </td><td> 7.225290     </td><td>161.32634     </td><td> 989          </td><td> 94966.75     </td><td>0.0128688909  </td></tr>\n\t<tr><td>Social        </td><td>59398         </td><td>0.9433146     </td><td>56031         </td><td>0.5423752     </td><td> 3.232348     </td><td>111.79883     </td><td>  38          </td><td>  1692.29     </td><td>0.0006397522  </td></tr>\n\t<tr><td>Paid_Search   </td><td>31882         </td><td>0.6663948     </td><td>21246         </td><td>0.6219183     </td><td> 4.461326     </td><td> 97.98413     </td><td> 425          </td><td> 21515.42     </td><td>0.0133304059  </td></tr>\n\t<tr><td>Direct        </td><td>26348         </td><td>0.7586534     </td><td>19989         </td><td>0.4594656     </td><td> 6.277820     </td><td>162.81221     </td><td> 367          </td><td> 52054.79     </td><td>0.0139289510  </td></tr>\n\t<tr><td>Referral      </td><td>18762         </td><td>0.5305405     </td><td> 9954         </td><td>0.2699606     </td><td>12.226149     </td><td>259.00032     </td><td>1231          </td><td>202558.88     </td><td>0.0656113421  </td></tr>\n\t<tr><td>Display       </td><td> 6411         </td><td>0.8502574     </td><td> 5451         </td><td>0.8341912     </td><td> 2.359850     </td><td> 34.35470     </td><td>  34          </td><td>  7956.42     </td><td>0.0053033848  </td></tr>\n\t<tr><td>Other         </td><td>   29         </td><td>0.3103448     </td><td>    9         </td><td>0.5862069     </td><td> 2.448276     </td><td> 57.34483     </td><td>   0          </td><td>     0.00     </td><td>0.0000000000  </td></tr>\n\t<tr><td>Email         </td><td>   19         </td><td>0.2105263     </td><td>    4         </td><td>0.3157895     </td><td> 3.368421     </td><td>132.89474     </td><td>   0          </td><td>     0.00     </td><td>0.0000000000  </td></tr>\n</tbody>\n</table>\n"
          },
          "metadata": {}
        }
      ]
    },
    {
      "metadata": {},
      "cell_type": "markdown",
      "source": "### *Exercise*\n\nWe might instead be interested in the absolute revenue generated by the different media channels. To see this in a easier readable format, use the `select` function to only select the columns `MediaChannel` and `Revenue`."
    },
    {
      "metadata": {
        "trusted": true
      },
      "cell_type": "code",
      "source": "select(webAnalyticsData, MediaChannel, Revenue)",
      "execution_count": 17,
      "outputs": [
        {
          "output_type": "display_data",
          "data": {
            "text/plain": "  MediaChannel   Revenue  \n1 Organic_Search  94966.75\n2 Social           1692.29\n3 Paid_Search     21515.42\n4 Direct          52054.79\n5 Referral       202558.88\n6 Display          7956.42\n7 Other               0.00\n8 Email               0.00",
            "text/latex": "\\begin{tabular}{r|ll}\n MediaChannel & Revenue\\\\\n\\hline\n\t Organic\\_Search &  94966.75       \\\\\n\t Social         &   1692.29     \\\\\n\t Paid\\_Search    &  21515.42       \\\\\n\t Direct         &  52054.79     \\\\\n\t Referral       & 202558.88     \\\\\n\t Display        &   7956.42     \\\\\n\t Other          &      0.00     \\\\\n\t Email          &      0.00     \\\\\n\\end{tabular}\n",
            "text/markdown": "\nMediaChannel | Revenue | \n|---|---|---|---|---|---|---|---|\n| Organic_Search |  94966.75      | \n| Social         |   1692.29      | \n| Paid_Search    |  21515.42      | \n| Direct         |  52054.79      | \n| Referral       | 202558.88      | \n| Display        |   7956.42      | \n| Other          |      0.00      | \n| Email          |      0.00      | \n\n\n",
            "text/html": "<table>\n<thead><tr><th scope=col>MediaChannel</th><th scope=col>Revenue</th></tr></thead>\n<tbody>\n\t<tr><td>Organic_Search</td><td> 94966.75     </td></tr>\n\t<tr><td>Social        </td><td>  1692.29     </td></tr>\n\t<tr><td>Paid_Search   </td><td> 21515.42     </td></tr>\n\t<tr><td>Direct        </td><td> 52054.79     </td></tr>\n\t<tr><td>Referral      </td><td>202558.88     </td></tr>\n\t<tr><td>Display       </td><td>  7956.42     </td></tr>\n\t<tr><td>Other         </td><td>     0.00     </td></tr>\n\t<tr><td>Email         </td><td>     0.00     </td></tr>\n</tbody>\n</table>\n"
          },
          "metadata": {}
        }
      ]
    },
    {
      "metadata": {},
      "cell_type": "markdown",
      "source": "### *Exercise*\n\nTo make it even easier to see the media channel with the highest revenue, arrange the data frame such that the media channel with the highest revenue is at the top. (Hint: You need to use the `select` and `arrange` function at the same time. Thus, you might need to make a nested function call, or store the output of one of the calls in a temporary variable.)"
    },
    {
      "metadata": {
        "trusted": true,
        "scrolled": true
      },
      "cell_type": "code",
      "source": "arrange(select(webAnalyticsData, MediaChannel, Revenue), desc(Revenue))\nselect(arrange(webAnalyticsData, desc(Revenue)), MediaChannel, Revenue)",
      "execution_count": 22,
      "outputs": [
        {
          "output_type": "display_data",
          "data": {
            "text/plain": "  MediaChannel   Revenue  \n1 Referral       202558.88\n2 Organic_Search  94966.75\n3 Direct          52054.79\n4 Paid_Search     21515.42\n5 Display          7956.42\n6 Social           1692.29\n7 Other               0.00\n8 Email               0.00",
            "text/latex": "\\begin{tabular}{r|ll}\n MediaChannel & Revenue\\\\\n\\hline\n\t Referral       & 202558.88     \\\\\n\t Organic\\_Search &  94966.75       \\\\\n\t Direct         &  52054.79     \\\\\n\t Paid\\_Search    &  21515.42       \\\\\n\t Display        &   7956.42     \\\\\n\t Social         &   1692.29     \\\\\n\t Other          &      0.00     \\\\\n\t Email          &      0.00     \\\\\n\\end{tabular}\n",
            "text/markdown": "\nMediaChannel | Revenue | \n|---|---|---|---|---|---|---|---|\n| Referral       | 202558.88      | \n| Organic_Search |  94966.75      | \n| Direct         |  52054.79      | \n| Paid_Search    |  21515.42      | \n| Display        |   7956.42      | \n| Social         |   1692.29      | \n| Other          |      0.00      | \n| Email          |      0.00      | \n\n\n",
            "text/html": "<table>\n<thead><tr><th scope=col>MediaChannel</th><th scope=col>Revenue</th></tr></thead>\n<tbody>\n\t<tr><td>Referral      </td><td>202558.88     </td></tr>\n\t<tr><td>Organic_Search</td><td> 94966.75     </td></tr>\n\t<tr><td>Direct        </td><td> 52054.79     </td></tr>\n\t<tr><td>Paid_Search   </td><td> 21515.42     </td></tr>\n\t<tr><td>Display       </td><td>  7956.42     </td></tr>\n\t<tr><td>Social        </td><td>  1692.29     </td></tr>\n\t<tr><td>Other         </td><td>     0.00     </td></tr>\n\t<tr><td>Email         </td><td>     0.00     </td></tr>\n</tbody>\n</table>\n"
          },
          "metadata": {}
        },
        {
          "output_type": "display_data",
          "data": {
            "text/plain": "  MediaChannel   Revenue  \n1 Referral       202558.88\n2 Organic_Search  94966.75\n3 Direct          52054.79\n4 Paid_Search     21515.42\n5 Display          7956.42\n6 Social           1692.29\n7 Other               0.00\n8 Email               0.00",
            "text/latex": "\\begin{tabular}{r|ll}\n MediaChannel & Revenue\\\\\n\\hline\n\t Referral       & 202558.88     \\\\\n\t Organic\\_Search &  94966.75       \\\\\n\t Direct         &  52054.79     \\\\\n\t Paid\\_Search    &  21515.42       \\\\\n\t Display        &   7956.42     \\\\\n\t Social         &   1692.29     \\\\\n\t Other          &      0.00     \\\\\n\t Email          &      0.00     \\\\\n\\end{tabular}\n",
            "text/markdown": "\nMediaChannel | Revenue | \n|---|---|---|---|---|---|---|---|\n| Referral       | 202558.88      | \n| Organic_Search |  94966.75      | \n| Direct         |  52054.79      | \n| Paid_Search    |  21515.42      | \n| Display        |   7956.42      | \n| Social         |   1692.29      | \n| Other          |      0.00      | \n| Email          |      0.00      | \n\n\n",
            "text/html": "<table>\n<thead><tr><th scope=col>MediaChannel</th><th scope=col>Revenue</th></tr></thead>\n<tbody>\n\t<tr><td>Referral      </td><td>202558.88     </td></tr>\n\t<tr><td>Organic_Search</td><td> 94966.75     </td></tr>\n\t<tr><td>Direct        </td><td> 52054.79     </td></tr>\n\t<tr><td>Paid_Search   </td><td> 21515.42     </td></tr>\n\t<tr><td>Display       </td><td>  7956.42     </td></tr>\n\t<tr><td>Social        </td><td>  1692.29     </td></tr>\n\t<tr><td>Other         </td><td>     0.00     </td></tr>\n\t<tr><td>Email         </td><td>     0.00     </td></tr>\n</tbody>\n</table>\n"
          },
          "metadata": {}
        }
      ]
    },
    {
      "metadata": {},
      "cell_type": "markdown",
      "source": "### *Exercise*\n\nWe are interested in knowing the total revenue and conversion rate for paid and non-paid media. Thus we will group the media channels into paid and non-paid. Thus, first create a new column called `type` which takes on the value `Paid` for the media channels `Paid_Search`, `Display` and `Email`. For the other channels the value should be `Non-paid` (it is of course debatable whether to put social in paid or non-paid here). To do this use `mutate` and the following expression to define the `Type` column: `ifelse(MediaChannel %in% c(\"Paid_Search\", \"Display\", \"Email\"), \"Paid\", \"Non-paid\")`. (Try to look up the help for the `ifelse` function and see if you can understand this code.)\n\nStore the output of this exercise in a data frame called `webAnalyticsDatawType`."
    },
    {
      "metadata": {
        "trusted": true
      },
      "cell_type": "code",
      "source": "webAnalyticsDatawType = mutate(webAnalyticsData, Type = ifelse(MediaChannel %in% c(\"Paid_Search\", \"Display\", \"Email\"), \"Paid\", \"Non-paid\"))",
      "execution_count": 24,
      "outputs": []
    },
    {
      "metadata": {
        "trusted": true
      },
      "cell_type": "code",
      "source": "webAnalyticsDatawType",
      "execution_count": 25,
      "outputs": [
        {
          "output_type": "display_data",
          "data": {
            "text/plain": "  MediaChannel   Sessions PercentNewSessions NewUsers BounceRate\n1 Organic_Search 76852    0.7840915          60259    0.3948368 \n2 Social         59398    0.9433146          56031    0.5423752 \n3 Paid_Search    31882    0.6663948          21246    0.6219183 \n4 Direct         26348    0.7586534          19989    0.4594656 \n5 Referral       18762    0.5305405           9954    0.2699606 \n6 Display         6411    0.8502574           5451    0.8341912 \n7 Other             29    0.3103448              9    0.5862069 \n8 Email             19    0.2105263              4    0.3157895 \n  PagesPerSession AvgSessionDuration Transactions Revenue   Type    \n1  7.225290       161.32634           989          94966.75 Non-paid\n2  3.232348       111.79883            38           1692.29 Non-paid\n3  4.461326        97.98413           425          21515.42 Paid    \n4  6.277820       162.81221           367          52054.79 Non-paid\n5 12.226149       259.00032          1231         202558.88 Non-paid\n6  2.359850        34.35470            34           7956.42 Paid    \n7  2.448276        57.34483             0              0.00 Non-paid\n8  3.368421       132.89474             0              0.00 Paid    ",
            "text/latex": "\\begin{tabular}{r|llllllllll}\n MediaChannel & Sessions & PercentNewSessions & NewUsers & BounceRate & PagesPerSession & AvgSessionDuration & Transactions & Revenue & Type\\\\\n\\hline\n\t Organic\\_Search & 76852            & 0.7840915        & 60259            & 0.3948368        &  7.225290        & 161.32634        &  989             &  94966.75        & Non-paid        \\\\\n\t Social         & 59398          & 0.9433146      & 56031          & 0.5423752      &  3.232348      & 111.79883      &   38           &   1692.29      & Non-paid      \\\\\n\t Paid\\_Search    & 31882            & 0.6663948        & 21246            & 0.6219183        &  4.461326        &  97.98413        &  425             &  21515.42        & Paid            \\\\\n\t Direct         & 26348          & 0.7586534      & 19989          & 0.4594656      &  6.277820      & 162.81221      &  367           &  52054.79      & Non-paid      \\\\\n\t Referral       & 18762          & 0.5305405      &  9954          & 0.2699606      & 12.226149      & 259.00032      & 1231           & 202558.88      & Non-paid      \\\\\n\t Display        &  6411          & 0.8502574      &  5451          & 0.8341912      &  2.359850      &  34.35470      &   34           &   7956.42      & Paid          \\\\\n\t Other          &    29          & 0.3103448      &     9          & 0.5862069      &  2.448276      &  57.34483      &    0           &      0.00      & Non-paid      \\\\\n\t Email          &    19          & 0.2105263      &     4          & 0.3157895      &  3.368421      & 132.89474      &    0           &      0.00      & Paid          \\\\\n\\end{tabular}\n",
            "text/markdown": "\nMediaChannel | Sessions | PercentNewSessions | NewUsers | BounceRate | PagesPerSession | AvgSessionDuration | Transactions | Revenue | Type | \n|---|---|---|---|---|---|---|---|\n| Organic_Search | 76852          | 0.7840915      | 60259          | 0.3948368      |  7.225290      | 161.32634      |  989           |  94966.75      | Non-paid       | \n| Social         | 59398          | 0.9433146      | 56031          | 0.5423752      |  3.232348      | 111.79883      |   38           |   1692.29      | Non-paid       | \n| Paid_Search    | 31882          | 0.6663948      | 21246          | 0.6219183      |  4.461326      |  97.98413      |  425           |  21515.42      | Paid           | \n| Direct         | 26348          | 0.7586534      | 19989          | 0.4594656      |  6.277820      | 162.81221      |  367           |  52054.79      | Non-paid       | \n| Referral       | 18762          | 0.5305405      |  9954          | 0.2699606      | 12.226149      | 259.00032      | 1231           | 202558.88      | Non-paid       | \n| Display        |  6411          | 0.8502574      |  5451          | 0.8341912      |  2.359850      |  34.35470      |   34           |   7956.42      | Paid           | \n| Other          |    29          | 0.3103448      |     9          | 0.5862069      |  2.448276      |  57.34483      |    0           |      0.00      | Non-paid       | \n| Email          |    19          | 0.2105263      |     4          | 0.3157895      |  3.368421      | 132.89474      |    0           |      0.00      | Paid           | \n\n\n",
            "text/html": "<table>\n<thead><tr><th scope=col>MediaChannel</th><th scope=col>Sessions</th><th scope=col>PercentNewSessions</th><th scope=col>NewUsers</th><th scope=col>BounceRate</th><th scope=col>PagesPerSession</th><th scope=col>AvgSessionDuration</th><th scope=col>Transactions</th><th scope=col>Revenue</th><th scope=col>Type</th></tr></thead>\n<tbody>\n\t<tr><td>Organic_Search</td><td>76852         </td><td>0.7840915     </td><td>60259         </td><td>0.3948368     </td><td> 7.225290     </td><td>161.32634     </td><td> 989          </td><td> 94966.75     </td><td>Non-paid      </td></tr>\n\t<tr><td>Social        </td><td>59398         </td><td>0.9433146     </td><td>56031         </td><td>0.5423752     </td><td> 3.232348     </td><td>111.79883     </td><td>  38          </td><td>  1692.29     </td><td>Non-paid      </td></tr>\n\t<tr><td>Paid_Search   </td><td>31882         </td><td>0.6663948     </td><td>21246         </td><td>0.6219183     </td><td> 4.461326     </td><td> 97.98413     </td><td> 425          </td><td> 21515.42     </td><td>Paid          </td></tr>\n\t<tr><td>Direct        </td><td>26348         </td><td>0.7586534     </td><td>19989         </td><td>0.4594656     </td><td> 6.277820     </td><td>162.81221     </td><td> 367          </td><td> 52054.79     </td><td>Non-paid      </td></tr>\n\t<tr><td>Referral      </td><td>18762         </td><td>0.5305405     </td><td> 9954         </td><td>0.2699606     </td><td>12.226149     </td><td>259.00032     </td><td>1231          </td><td>202558.88     </td><td>Non-paid      </td></tr>\n\t<tr><td>Display       </td><td> 6411         </td><td>0.8502574     </td><td> 5451         </td><td>0.8341912     </td><td> 2.359850     </td><td> 34.35470     </td><td>  34          </td><td>  7956.42     </td><td>Paid          </td></tr>\n\t<tr><td>Other         </td><td>   29         </td><td>0.3103448     </td><td>    9         </td><td>0.5862069     </td><td> 2.448276     </td><td> 57.34483     </td><td>   0          </td><td>     0.00     </td><td>Non-paid      </td></tr>\n\t<tr><td>Email         </td><td>   19         </td><td>0.2105263     </td><td>    4         </td><td>0.3157895     </td><td> 3.368421     </td><td>132.89474     </td><td>   0          </td><td>     0.00     </td><td>Paid          </td></tr>\n</tbody>\n</table>\n"
          },
          "metadata": {}
        }
      ]
    },
    {
      "metadata": {},
      "cell_type": "markdown",
      "source": "### *Exercise*\n\nUse the data frame from the last exercise together with the `groupby` and `summerise` functions to create a data frame that shows the total revenue and total number of sessions for each to types `Paid` and `Non-paid`. (HInt: It is probably easiest to make a nested function call the with `group_by` function as the inner function.)"
    },
    {
      "metadata": {
        "trusted": true
      },
      "cell_type": "code",
      "source": "summarise(group_by(webAnalyticsDatawType, Type), totalRevenue = sum(Revenue), totalSessions = sum(Sessions))",
      "execution_count": 29,
      "outputs": [
        {
          "output_type": "display_data",
          "data": {
            "text/plain": "  Type     totalRevenue totalSessions\n1 Non-paid 351272.71    181389       \n2 Paid      29471.84     38312       ",
            "text/latex": "\\begin{tabular}{r|lll}\n Type & totalRevenue & totalSessions\\\\\n\\hline\n\t Non-paid  & 351272.71 & 181389   \\\\\n\t Paid      &  29471.84 &  38312   \\\\\n\\end{tabular}\n",
            "text/markdown": "\nType | totalRevenue | totalSessions | \n|---|---|\n| Non-paid  | 351272.71 | 181389    | \n| Paid      |  29471.84 |  38312    | \n\n\n",
            "text/html": "<table>\n<thead><tr><th scope=col>Type</th><th scope=col>totalRevenue</th><th scope=col>totalSessions</th></tr></thead>\n<tbody>\n\t<tr><td>Non-paid </td><td>351272.71</td><td>181389   </td></tr>\n\t<tr><td>Paid     </td><td> 29471.84</td><td> 38312   </td></tr>\n</tbody>\n</table>\n"
          },
          "metadata": {}
        }
      ]
    },
    {
      "metadata": {},
      "cell_type": "markdown",
      "source": "### *Exercise*\n\nCalculate the conversion rate for Paid and Non-paid media. (Hint: Use the `group_by` and `summarise` functions.)"
    },
    {
      "metadata": {
        "trusted": true
      },
      "cell_type": "code",
      "source": "df <- mutate(summarise(group_by(webAnalyticsDatawType, Type), totalTransactions = sum(Transactions), totalSessions = sum(Sessions)), ConversionRate = totalTransactions / totalSessions)\ndf",
      "execution_count": 33,
      "outputs": [
        {
          "output_type": "display_data",
          "data": {
            "text/plain": "  Type     totalTransactions totalSessions ConversionRate\n1 Non-paid 2625              181389        0.01447166    \n2 Paid      459               38312        0.01198058    ",
            "text/latex": "\\begin{tabular}{r|llll}\n Type & totalTransactions & totalSessions & ConversionRate\\\\\n\\hline\n\t Non-paid   & 2625       & 181389     & 0.01447166\\\\\n\t Paid       &  459       &  38312     & 0.01198058\\\\\n\\end{tabular}\n",
            "text/markdown": "\nType | totalTransactions | totalSessions | ConversionRate | \n|---|---|\n| Non-paid   | 2625       | 181389     | 0.01447166 | \n| Paid       |  459       |  38312     | 0.01198058 | \n\n\n",
            "text/html": "<table>\n<thead><tr><th scope=col>Type</th><th scope=col>totalTransactions</th><th scope=col>totalSessions</th><th scope=col>ConversionRate</th></tr></thead>\n<tbody>\n\t<tr><td>Non-paid  </td><td>2625      </td><td>181389    </td><td>0.01447166</td></tr>\n\t<tr><td>Paid      </td><td> 459      </td><td> 38312    </td><td>0.01198058</td></tr>\n</tbody>\n</table>\n"
          },
          "metadata": {}
        }
      ]
    },
    {
      "metadata": {},
      "cell_type": "markdown",
      "source": "### *Exercise*\n\nWrite the data frame of the last exercise to a csv file. Can you locate the file in Azure Notebooks and does it looks like you expected?"
    },
    {
      "metadata": {
        "trusted": true
      },
      "cell_type": "code",
      "source": "write.csv(df, \"conversion_report.csv\", row.names = FALSE)",
      "execution_count": 34,
      "outputs": []
    }
  ],
  "metadata": {
    "kernelspec": {
      "name": "r",
      "display_name": "R",
      "language": "R"
    },
    "language_info": {
      "mimetype": "text/x-r-source",
      "name": "R",
      "pygments_lexer": "r",
      "version": "3.4.1",
      "file_extension": ".r",
      "codemirror_mode": "r"
    }
  },
  "nbformat": 4,
  "nbformat_minor": 2
}